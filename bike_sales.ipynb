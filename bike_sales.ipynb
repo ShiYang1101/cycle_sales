{
 "cells": [
  {
   "cell_type": "code",
   "execution_count": 1,
   "metadata": {},
   "outputs": [],
   "source": [
    "import pandas as pd\n",
    "import numpy as np\n",
    "import matplotlib.pyplot as plt\n",
    "import seaborn as sns\n",
    "import statsmodels as sm\n",
    "import scipy"
   ]
  },
  {
   "cell_type": "code",
   "execution_count": 2,
   "metadata": {},
   "outputs": [
    {
     "data": {
      "text/html": [
       "<div>\n",
       "<style scoped>\n",
       "    .dataframe tbody tr th:only-of-type {\n",
       "        vertical-align: middle;\n",
       "    }\n",
       "\n",
       "    .dataframe tbody tr th {\n",
       "        vertical-align: top;\n",
       "    }\n",
       "\n",
       "    .dataframe thead th {\n",
       "        text-align: right;\n",
       "    }\n",
       "</style>\n",
       "<table border=\"1\" class=\"dataframe\">\n",
       "  <thead>\n",
       "    <tr style=\"text-align: right;\">\n",
       "      <th></th>\n",
       "      <th>Date</th>\n",
       "      <th>Year</th>\n",
       "      <th>Month</th>\n",
       "      <th>Customer Age</th>\n",
       "      <th>Customer Gender</th>\n",
       "      <th>Country</th>\n",
       "      <th>State</th>\n",
       "      <th>Product Category</th>\n",
       "      <th>Sub Category</th>\n",
       "      <th>Quantity</th>\n",
       "      <th>Unit Cost</th>\n",
       "      <th>Unit Price</th>\n",
       "      <th>Cost</th>\n",
       "      <th>Revenue</th>\n",
       "      <th>net_profit</th>\n",
       "      <th>Day</th>\n",
       "      <th>Month_numeric</th>\n",
       "    </tr>\n",
       "    <tr>\n",
       "      <th>index</th>\n",
       "      <th></th>\n",
       "      <th></th>\n",
       "      <th></th>\n",
       "      <th></th>\n",
       "      <th></th>\n",
       "      <th></th>\n",
       "      <th></th>\n",
       "      <th></th>\n",
       "      <th></th>\n",
       "      <th></th>\n",
       "      <th></th>\n",
       "      <th></th>\n",
       "      <th></th>\n",
       "      <th></th>\n",
       "      <th></th>\n",
       "      <th></th>\n",
       "      <th></th>\n",
       "    </tr>\n",
       "  </thead>\n",
       "  <tbody>\n",
       "    <tr>\n",
       "      <th>0</th>\n",
       "      <td>02/19/16</td>\n",
       "      <td>2016</td>\n",
       "      <td>February</td>\n",
       "      <td>29</td>\n",
       "      <td>F</td>\n",
       "      <td>United States</td>\n",
       "      <td>Washington</td>\n",
       "      <td>Accessories</td>\n",
       "      <td>Tires and Tubes</td>\n",
       "      <td>1.0</td>\n",
       "      <td>80.00</td>\n",
       "      <td>109.000000</td>\n",
       "      <td>80.0</td>\n",
       "      <td>109.0</td>\n",
       "      <td>29</td>\n",
       "      <td>19</td>\n",
       "      <td>2</td>\n",
       "    </tr>\n",
       "    <tr>\n",
       "      <th>1</th>\n",
       "      <td>02/20/16</td>\n",
       "      <td>2016</td>\n",
       "      <td>February</td>\n",
       "      <td>29</td>\n",
       "      <td>F</td>\n",
       "      <td>United States</td>\n",
       "      <td>Washington</td>\n",
       "      <td>Clothing</td>\n",
       "      <td>Gloves</td>\n",
       "      <td>2.0</td>\n",
       "      <td>24.50</td>\n",
       "      <td>28.500000</td>\n",
       "      <td>49.0</td>\n",
       "      <td>57.0</td>\n",
       "      <td>8</td>\n",
       "      <td>20</td>\n",
       "      <td>2</td>\n",
       "    </tr>\n",
       "    <tr>\n",
       "      <th>2</th>\n",
       "      <td>02/27/16</td>\n",
       "      <td>2016</td>\n",
       "      <td>February</td>\n",
       "      <td>29</td>\n",
       "      <td>F</td>\n",
       "      <td>United States</td>\n",
       "      <td>Washington</td>\n",
       "      <td>Accessories</td>\n",
       "      <td>Tires and Tubes</td>\n",
       "      <td>3.0</td>\n",
       "      <td>3.67</td>\n",
       "      <td>5.000000</td>\n",
       "      <td>11.0</td>\n",
       "      <td>15.0</td>\n",
       "      <td>4</td>\n",
       "      <td>27</td>\n",
       "      <td>2</td>\n",
       "    </tr>\n",
       "    <tr>\n",
       "      <th>3</th>\n",
       "      <td>03/12/16</td>\n",
       "      <td>2016</td>\n",
       "      <td>March</td>\n",
       "      <td>29</td>\n",
       "      <td>F</td>\n",
       "      <td>United States</td>\n",
       "      <td>Washington</td>\n",
       "      <td>Accessories</td>\n",
       "      <td>Tires and Tubes</td>\n",
       "      <td>2.0</td>\n",
       "      <td>87.50</td>\n",
       "      <td>116.500000</td>\n",
       "      <td>175.0</td>\n",
       "      <td>233.0</td>\n",
       "      <td>58</td>\n",
       "      <td>12</td>\n",
       "      <td>3</td>\n",
       "    </tr>\n",
       "    <tr>\n",
       "      <th>4</th>\n",
       "      <td>03/12/16</td>\n",
       "      <td>2016</td>\n",
       "      <td>March</td>\n",
       "      <td>29</td>\n",
       "      <td>F</td>\n",
       "      <td>United States</td>\n",
       "      <td>Washington</td>\n",
       "      <td>Accessories</td>\n",
       "      <td>Tires and Tubes</td>\n",
       "      <td>3.0</td>\n",
       "      <td>35.00</td>\n",
       "      <td>41.666667</td>\n",
       "      <td>105.0</td>\n",
       "      <td>125.0</td>\n",
       "      <td>20</td>\n",
       "      <td>12</td>\n",
       "      <td>3</td>\n",
       "    </tr>\n",
       "  </tbody>\n",
       "</table>\n",
       "</div>"
      ],
      "text/plain": [
       "           Date  Year     Month  Customer Age Customer Gender        Country  \\\n",
       "index                                                                          \n",
       "0      02/19/16  2016  February            29               F  United States   \n",
       "1      02/20/16  2016  February            29               F  United States   \n",
       "2      02/27/16  2016  February            29               F  United States   \n",
       "3      03/12/16  2016     March            29               F  United States   \n",
       "4      03/12/16  2016     March            29               F  United States   \n",
       "\n",
       "            State Product Category     Sub Category  Quantity  Unit Cost  \\\n",
       "index                                                                      \n",
       "0      Washington      Accessories  Tires and Tubes       1.0      80.00   \n",
       "1      Washington         Clothing           Gloves       2.0      24.50   \n",
       "2      Washington      Accessories  Tires and Tubes       3.0       3.67   \n",
       "3      Washington      Accessories  Tires and Tubes       2.0      87.50   \n",
       "4      Washington      Accessories  Tires and Tubes       3.0      35.00   \n",
       "\n",
       "       Unit Price   Cost  Revenue  net_profit  Day  Month_numeric  \n",
       "index                                                              \n",
       "0      109.000000   80.0    109.0          29   19              2  \n",
       "1       28.500000   49.0     57.0           8   20              2  \n",
       "2        5.000000   11.0     15.0           4   27              2  \n",
       "3      116.500000  175.0    233.0          58   12              3  \n",
       "4       41.666667  105.0    125.0          20   12              3  "
      ]
     },
     "execution_count": 2,
     "metadata": {},
     "output_type": "execute_result"
    }
   ],
   "source": [
    "sales_df = pd.read_csv('./sales_cleaned.csv', index_col='index')\n",
    "sales_df.head()"
   ]
  },
  {
   "cell_type": "code",
   "execution_count": 3,
   "metadata": {},
   "outputs": [
    {
     "data": {
      "text/plain": [
       "(34866, 17)"
      ]
     },
     "execution_count": 3,
     "metadata": {},
     "output_type": "execute_result"
    }
   ],
   "source": [
    "sales_df.shape"
   ]
  },
  {
   "cell_type": "code",
   "execution_count": 4,
   "metadata": {},
   "outputs": [
    {
     "data": {
      "text/html": [
       "<div>\n",
       "<style scoped>\n",
       "    .dataframe tbody tr th:only-of-type {\n",
       "        vertical-align: middle;\n",
       "    }\n",
       "\n",
       "    .dataframe tbody tr th {\n",
       "        vertical-align: top;\n",
       "    }\n",
       "\n",
       "    .dataframe thead th {\n",
       "        text-align: right;\n",
       "    }\n",
       "</style>\n",
       "<table border=\"1\" class=\"dataframe\">\n",
       "  <thead>\n",
       "    <tr style=\"text-align: right;\">\n",
       "      <th></th>\n",
       "      <th>Year</th>\n",
       "      <th>Customer Age</th>\n",
       "      <th>Quantity</th>\n",
       "      <th>Unit Cost</th>\n",
       "      <th>Unit Price</th>\n",
       "      <th>Cost</th>\n",
       "      <th>Revenue</th>\n",
       "      <th>net_profit</th>\n",
       "      <th>Day</th>\n",
       "      <th>Month_numeric</th>\n",
       "    </tr>\n",
       "  </thead>\n",
       "  <tbody>\n",
       "    <tr>\n",
       "      <th>count</th>\n",
       "      <td>34866.000000</td>\n",
       "      <td>34866.000000</td>\n",
       "      <td>34866.000000</td>\n",
       "      <td>34866.000000</td>\n",
       "      <td>34866.000000</td>\n",
       "      <td>34866.000000</td>\n",
       "      <td>34866.000000</td>\n",
       "      <td>34866.000000</td>\n",
       "      <td>34866.000000</td>\n",
       "      <td>34866.000000</td>\n",
       "    </tr>\n",
       "    <tr>\n",
       "      <th>mean</th>\n",
       "      <td>2015.569237</td>\n",
       "      <td>36.382895</td>\n",
       "      <td>2.002524</td>\n",
       "      <td>349.880567</td>\n",
       "      <td>389.232485</td>\n",
       "      <td>576.004532</td>\n",
       "      <td>640.870074</td>\n",
       "      <td>64.865542</td>\n",
       "      <td>15.667671</td>\n",
       "      <td>6.317845</td>\n",
       "    </tr>\n",
       "    <tr>\n",
       "      <th>std</th>\n",
       "      <td>0.495190</td>\n",
       "      <td>11.112902</td>\n",
       "      <td>0.813936</td>\n",
       "      <td>490.015846</td>\n",
       "      <td>525.319091</td>\n",
       "      <td>690.500395</td>\n",
       "      <td>736.650597</td>\n",
       "      <td>152.879908</td>\n",
       "      <td>8.770677</td>\n",
       "      <td>3.465317</td>\n",
       "    </tr>\n",
       "    <tr>\n",
       "      <th>min</th>\n",
       "      <td>2015.000000</td>\n",
       "      <td>17.000000</td>\n",
       "      <td>1.000000</td>\n",
       "      <td>0.670000</td>\n",
       "      <td>0.666667</td>\n",
       "      <td>2.000000</td>\n",
       "      <td>2.000000</td>\n",
       "      <td>-937.000000</td>\n",
       "      <td>1.000000</td>\n",
       "      <td>1.000000</td>\n",
       "    </tr>\n",
       "    <tr>\n",
       "      <th>25%</th>\n",
       "      <td>2015.000000</td>\n",
       "      <td>28.000000</td>\n",
       "      <td>1.000000</td>\n",
       "      <td>45.000000</td>\n",
       "      <td>53.666667</td>\n",
       "      <td>85.000000</td>\n",
       "      <td>102.000000</td>\n",
       "      <td>5.000000</td>\n",
       "      <td>8.000000</td>\n",
       "      <td>3.000000</td>\n",
       "    </tr>\n",
       "    <tr>\n",
       "      <th>50%</th>\n",
       "      <td>2016.000000</td>\n",
       "      <td>35.000000</td>\n",
       "      <td>2.000000</td>\n",
       "      <td>150.000000</td>\n",
       "      <td>179.000000</td>\n",
       "      <td>261.000000</td>\n",
       "      <td>319.000000</td>\n",
       "      <td>27.000000</td>\n",
       "      <td>16.000000</td>\n",
       "      <td>6.000000</td>\n",
       "    </tr>\n",
       "    <tr>\n",
       "      <th>75%</th>\n",
       "      <td>2016.000000</td>\n",
       "      <td>44.000000</td>\n",
       "      <td>3.000000</td>\n",
       "      <td>455.000000</td>\n",
       "      <td>521.000000</td>\n",
       "      <td>769.000000</td>\n",
       "      <td>902.000000</td>\n",
       "      <td>96.000000</td>\n",
       "      <td>23.000000</td>\n",
       "      <td>9.000000</td>\n",
       "    </tr>\n",
       "    <tr>\n",
       "      <th>max</th>\n",
       "      <td>2016.000000</td>\n",
       "      <td>87.000000</td>\n",
       "      <td>3.000000</td>\n",
       "      <td>3240.000000</td>\n",
       "      <td>5082.000000</td>\n",
       "      <td>3600.000000</td>\n",
       "      <td>5082.000000</td>\n",
       "      <td>1842.000000</td>\n",
       "      <td>31.000000</td>\n",
       "      <td>12.000000</td>\n",
       "    </tr>\n",
       "  </tbody>\n",
       "</table>\n",
       "</div>"
      ],
      "text/plain": [
       "               Year  Customer Age      Quantity     Unit Cost    Unit Price  \\\n",
       "count  34866.000000  34866.000000  34866.000000  34866.000000  34866.000000   \n",
       "mean    2015.569237     36.382895      2.002524    349.880567    389.232485   \n",
       "std        0.495190     11.112902      0.813936    490.015846    525.319091   \n",
       "min     2015.000000     17.000000      1.000000      0.670000      0.666667   \n",
       "25%     2015.000000     28.000000      1.000000     45.000000     53.666667   \n",
       "50%     2016.000000     35.000000      2.000000    150.000000    179.000000   \n",
       "75%     2016.000000     44.000000      3.000000    455.000000    521.000000   \n",
       "max     2016.000000     87.000000      3.000000   3240.000000   5082.000000   \n",
       "\n",
       "               Cost       Revenue    net_profit           Day  Month_numeric  \n",
       "count  34866.000000  34866.000000  34866.000000  34866.000000   34866.000000  \n",
       "mean     576.004532    640.870074     64.865542     15.667671       6.317845  \n",
       "std      690.500395    736.650597    152.879908      8.770677       3.465317  \n",
       "min        2.000000      2.000000   -937.000000      1.000000       1.000000  \n",
       "25%       85.000000    102.000000      5.000000      8.000000       3.000000  \n",
       "50%      261.000000    319.000000     27.000000     16.000000       6.000000  \n",
       "75%      769.000000    902.000000     96.000000     23.000000       9.000000  \n",
       "max     3600.000000   5082.000000   1842.000000     31.000000      12.000000  "
      ]
     },
     "execution_count": 4,
     "metadata": {},
     "output_type": "execute_result"
    }
   ],
   "source": [
    "sales_df.describe()"
   ]
  },
  {
   "attachments": {},
   "cell_type": "markdown",
   "metadata": {},
   "source": [
    "It appears that most of the distribution are a long tailed distribution, skewed to the lower end."
   ]
  },
  {
   "cell_type": "code",
   "execution_count": 5,
   "metadata": {},
   "outputs": [
    {
     "data": {
      "text/plain": [
       "2.868123673492801e-05"
      ]
     },
     "execution_count": 5,
     "metadata": {},
     "output_type": "execute_result"
    }
   ],
   "source": [
    "sales_df.duplicated().mean()"
   ]
  },
  {
   "cell_type": "code",
   "execution_count": 6,
   "metadata": {},
   "outputs": [
    {
     "data": {
      "text/html": [
       "<div>\n",
       "<style scoped>\n",
       "    .dataframe tbody tr th:only-of-type {\n",
       "        vertical-align: middle;\n",
       "    }\n",
       "\n",
       "    .dataframe tbody tr th {\n",
       "        vertical-align: top;\n",
       "    }\n",
       "\n",
       "    .dataframe thead th {\n",
       "        text-align: right;\n",
       "    }\n",
       "</style>\n",
       "<table border=\"1\" class=\"dataframe\">\n",
       "  <thead>\n",
       "    <tr style=\"text-align: right;\">\n",
       "      <th></th>\n",
       "      <th>Date</th>\n",
       "      <th>Year</th>\n",
       "      <th>Month</th>\n",
       "      <th>Customer Age</th>\n",
       "      <th>Customer Gender</th>\n",
       "      <th>Country</th>\n",
       "      <th>State</th>\n",
       "      <th>Product Category</th>\n",
       "      <th>Sub Category</th>\n",
       "      <th>Quantity</th>\n",
       "      <th>Unit Cost</th>\n",
       "      <th>Unit Price</th>\n",
       "      <th>Cost</th>\n",
       "      <th>Revenue</th>\n",
       "      <th>net_profit</th>\n",
       "      <th>Day</th>\n",
       "      <th>Month_numeric</th>\n",
       "    </tr>\n",
       "    <tr>\n",
       "      <th>index</th>\n",
       "      <th></th>\n",
       "      <th></th>\n",
       "      <th></th>\n",
       "      <th></th>\n",
       "      <th></th>\n",
       "      <th></th>\n",
       "      <th></th>\n",
       "      <th></th>\n",
       "      <th></th>\n",
       "      <th></th>\n",
       "      <th></th>\n",
       "      <th></th>\n",
       "      <th></th>\n",
       "      <th></th>\n",
       "      <th></th>\n",
       "      <th></th>\n",
       "      <th></th>\n",
       "    </tr>\n",
       "  </thead>\n",
       "  <tbody>\n",
       "    <tr>\n",
       "      <th>868</th>\n",
       "      <td>08/12/15</td>\n",
       "      <td>2015</td>\n",
       "      <td>August</td>\n",
       "      <td>43</td>\n",
       "      <td>F</td>\n",
       "      <td>Germany</td>\n",
       "      <td>Bayern</td>\n",
       "      <td>Accessories</td>\n",
       "      <td>Bottles and Cages</td>\n",
       "      <td>2.0</td>\n",
       "      <td>10.0</td>\n",
       "      <td>14.0</td>\n",
       "      <td>20.0</td>\n",
       "      <td>28.0</td>\n",
       "      <td>8</td>\n",
       "      <td>12</td>\n",
       "      <td>8</td>\n",
       "    </tr>\n",
       "    <tr>\n",
       "      <th>869</th>\n",
       "      <td>08/12/15</td>\n",
       "      <td>2015</td>\n",
       "      <td>August</td>\n",
       "      <td>43</td>\n",
       "      <td>F</td>\n",
       "      <td>Germany</td>\n",
       "      <td>Bayern</td>\n",
       "      <td>Accessories</td>\n",
       "      <td>Bottles and Cages</td>\n",
       "      <td>2.0</td>\n",
       "      <td>10.0</td>\n",
       "      <td>14.0</td>\n",
       "      <td>20.0</td>\n",
       "      <td>28.0</td>\n",
       "      <td>8</td>\n",
       "      <td>12</td>\n",
       "      <td>8</td>\n",
       "    </tr>\n",
       "  </tbody>\n",
       "</table>\n",
       "</div>"
      ],
      "text/plain": [
       "           Date  Year   Month  Customer Age Customer Gender  Country   State  \\\n",
       "index                                                                          \n",
       "868    08/12/15  2015  August            43               F  Germany  Bayern   \n",
       "869    08/12/15  2015  August            43               F  Germany  Bayern   \n",
       "\n",
       "      Product Category       Sub Category  Quantity  Unit Cost  Unit Price  \\\n",
       "index                                                                        \n",
       "868        Accessories  Bottles and Cages       2.0       10.0        14.0   \n",
       "869        Accessories  Bottles and Cages       2.0       10.0        14.0   \n",
       "\n",
       "       Cost  Revenue  net_profit  Day  Month_numeric  \n",
       "index                                                 \n",
       "868    20.0     28.0           8   12              8  \n",
       "869    20.0     28.0           8   12              8  "
      ]
     },
     "execution_count": 6,
     "metadata": {},
     "output_type": "execute_result"
    }
   ],
   "source": [
    "sales_df[sales_df.duplicated(keep=False)].sort_values(['Date', 'Revenue'])"
   ]
  },
  {
   "attachments": {},
   "cell_type": "markdown",
   "metadata": {},
   "source": [
    "Out of 34866 entries, there was one entry that appears to be duplicated. It is quite possible that one person with the same demographic information purchased the exact same item on the same day. We will leave the duplicated entry as it is only one of them."
   ]
  },
  {
   "attachments": {},
   "cell_type": "markdown",
   "metadata": {},
   "source": [
    "# Statistical tests\n",
    "\n",
    "First, let's investigate the claim of gender having no relation with revenue generated"
   ]
  },
  {
   "cell_type": "code",
   "execution_count": 7,
   "metadata": {},
   "outputs": [
    {
     "data": {
      "image/png": "[encoded data removed]",
      "text/plain": [
       "<Figure size 864x576 with 1 Axes>"
      ]
     },
     "metadata": {
      "needs_background": "light"
     },
     "output_type": "display_data"
    }
   ],
   "source": [
    "plt.figure(figsize = (12, 8))\n",
    "sns.histplot(sales_df[sales_df['Customer Gender'] == 'M'].Revenue, \n",
    "                color='goldenrod', alpha = 0.8, label = 'Male')\n",
    "sns.histplot(sales_df[sales_df['Customer Gender'] == 'F'].Revenue, \n",
    "                color='lightblue', alpha = 0.5, label = 'Female')\n",
    "plt.xlim((sales_df['Revenue'].min(), sales_df['Revenue'].quantile(0.99)))\n",
    "plt.title('Revenue generated from both gender')\n",
    "plt.legend()\n",
    "plt.show()"
   ]
  },
  {
   "attachments": {},
   "cell_type": "markdown",
   "metadata": {},
   "source": [
    "From the figure above, we can see that the two distributions from each gender are almost identical.\n",
    "\n",
    "However, it apperas that the distributions consist of 3 difference distribution, with a right skewed, long tail distribution (likely to be from product sales with low pricing),\n",
    "and 2 gaussian mixture distributions (centered at 600 and 2200)"
   ]
  },
  {
   "cell_type": "code",
   "execution_count": 8,
   "metadata": {},
   "outputs": [
    {
     "data": {
      "text/plain": [
       "array(['Accessories', 'Clothing', 'Bikes'], dtype=object)"
      ]
     },
     "execution_count": 8,
     "metadata": {},
     "output_type": "execute_result"
    }
   ],
   "source": [
    "sales_df['Product Category'].unique()"
   ]
  },
  {
   "attachments": {},
   "cell_type": "markdown",
   "metadata": {},
   "source": [
    "Coincidently, it apperas that we have exactly 3 different product categories. Let's investigate if these 3 product correspond to the 3 distributions we see."
   ]
  },
  {
   "cell_type": "code",
   "execution_count": 9,
   "metadata": {},
   "outputs": [
    {
     "data": {
      "image/png": "[encoded data removed]",
      "text/plain": [
       "<Figure size 864x576 with 1 Axes>"
      ]
     },
     "metadata": {
      "needs_background": "light"
     },
     "output_type": "display_data"
    }
   ],
   "source": [
    "plt.figure(figsize=(12, 8))\n",
    "for prod, color in zip(sales_df['Product Category'].unique(), ['red', 'goldenrod', 'blue']):\n",
    "    sns.histplot(sales_df[sales_df['Product Category'] == prod]['Revenue'], \n",
    "    label = prod, color=color, alpha = 0.5)\n",
    "plt.legend()\n",
    "plt.show()"
   ]
  },
  {
   "attachments": {},
   "cell_type": "markdown",
   "metadata": {},
   "source": [
    "It appers that our guess was wrong, both accessories and cloting made up the right-skewed distribution, whereas the gaussian mixture distributin was from bikes category alone."
   ]
  },
  {
   "attachments": {},
   "cell_type": "markdown",
   "metadata": {},
   "source": [
    "## T-test on revenues generated for different gender."
   ]
  },
  {
   "attachments": {},
   "cell_type": "markdown",
   "metadata": {},
   "source": [
    "To determine if different gender had different spending habits, we will be running a unpaired t-test to investigate if the two distribution is the same.\n",
    "\n",
    "The hypothesis of a unpaired t-test is as follows:\n",
    "$$H_0: \\bar{X} - \\bar{Y} = 0$$\n",
    "$$H_1: \\bar{X} - \\bar{Y} \\neq 0$$\n",
    "\n",
    "where X and Y are the two distribution compared."
   ]
  },
  {
   "cell_type": "code",
   "execution_count": 10,
   "metadata": {},
   "outputs": [
    {
     "name": "stdout",
     "output_type": "stream",
     "text": [
      "The p-vale for unpaired t-test for both gender is 0.9855\n"
     ]
    }
   ],
   "source": [
    "ttest_stat, ttest_p = scipy.stats.ttest_ind(sales_df[sales_df['Customer Gender'] == 'M'].Revenue, \n",
    "                   sales_df[sales_df['Customer Gender'] == 'F'].Revenue )\n",
    "\n",
    "print(f'The p-vale for unpaired t-test for both gender is {ttest_p:.4f}')"
   ]
  },
  {
   "attachments": {},
   "cell_type": "markdown",
   "metadata": {},
   "source": [
    "Indeed, we can see that the p-value is around 0.98, which is highly unlikely that the mean of revenue spent for each gender were different.\n",
    "\n",
    "> However, from the distribution above, we can see that it is highly not normal. Although we do have 34688 entries, and the central limit theorem works in our favour, and the assumption of similar means from any sample drawn from the distribution is the same.\n",
    "\n",
    "Just to be safe, we will be running a Wilcoxon test (alternative non-parametric t-test)."
   ]
  },
  {
   "attachments": {},
   "cell_type": "markdown",
   "metadata": {},
   "source": [
    "## Mann-whitney U test for revenues generated by eahc gender."
   ]
  },
  {
   "cell_type": "code",
   "execution_count": 11,
   "metadata": {},
   "outputs": [
    {
     "name": "stdout",
     "output_type": "stream",
     "text": [
      "The p-vale for unpaired t-test for both gender is 0.2144\n"
     ]
    }
   ],
   "source": [
    "whitney_stat, whitney_p = scipy.stats.mannwhitneyu(sales_df[sales_df['Customer Gender'] == 'M'].Revenue, \n",
    "                   sales_df[sales_df['Customer Gender'] == 'F'].Revenue )\n",
    "\n",
    "print(f'The p-vale for unpaired t-test for both gender is {whitney_p:.4f}')\n"
   ]
  },
  {
   "attachments": {},
   "cell_type": "markdown",
   "metadata": {},
   "source": [
    "### Conclusion\n",
    "Indeed, from the p-value above, we can see that it is still higher than the threshold of 5%. \n",
    "\n",
    ">> There is no statistical significant that each gender had different spending habit!"
   ]
  },
  {
   "attachments": {},
   "cell_type": "markdown",
   "metadata": {},
   "source": [
    "# Relation between gender and product purchased"
   ]
  },
  {
   "attachments": {},
   "cell_type": "markdown",
   "metadata": {},
   "source": [
    "Now that we have determined that the amount spent had no relation to the gender of customers, let's investigate if there was any difference of product bought for each gender."
   ]
  },
  {
   "attachments": {},
   "cell_type": "markdown",
   "metadata": {},
   "source": [
    "Let's look at the frequency table for product categories and gender."
   ]
  },
  {
   "cell_type": "code",
   "execution_count": 12,
   "metadata": {},
   "outputs": [
    {
     "data": {
      "text/html": [
       "<div>\n",
       "<style scoped>\n",
       "    .dataframe tbody tr th:only-of-type {\n",
       "        vertical-align: middle;\n",
       "    }\n",
       "\n",
       "    .dataframe tbody tr th {\n",
       "        vertical-align: top;\n",
       "    }\n",
       "\n",
       "    .dataframe thead th {\n",
       "        text-align: right;\n",
       "    }\n",
       "</style>\n",
       "<table border=\"1\" class=\"dataframe\">\n",
       "  <thead>\n",
       "    <tr style=\"text-align: right;\">\n",
       "      <th>Customer Gender</th>\n",
       "      <th>F</th>\n",
       "      <th>M</th>\n",
       "    </tr>\n",
       "    <tr>\n",
       "      <th>Product Category</th>\n",
       "      <th></th>\n",
       "      <th></th>\n",
       "    </tr>\n",
       "  </thead>\n",
       "  <tbody>\n",
       "    <tr>\n",
       "      <th>Accessories</th>\n",
       "      <td>11042</td>\n",
       "      <td>11492</td>\n",
       "    </tr>\n",
       "    <tr>\n",
       "      <th>Bikes</th>\n",
       "      <td>3514</td>\n",
       "      <td>3579</td>\n",
       "    </tr>\n",
       "    <tr>\n",
       "      <th>Clothing</th>\n",
       "      <td>2505</td>\n",
       "      <td>2734</td>\n",
       "    </tr>\n",
       "  </tbody>\n",
       "</table>\n",
       "</div>"
      ],
      "text/plain": [
       "Customer Gender       F      M\n",
       "Product Category              \n",
       "Accessories       11042  11492\n",
       "Bikes              3514   3579\n",
       "Clothing           2505   2734"
      ]
     },
     "execution_count": 12,
     "metadata": {},
     "output_type": "execute_result"
    }
   ],
   "source": [
    "gender_category_df = sales_df.groupby(['Customer Gender', 'Product Category'])['Product Category'] \\\n",
    "                        .count().unstack().T\n",
    "\n",
    "gender_category_df"
   ]
  },
  {
   "cell_type": "code",
   "execution_count": 13,
   "metadata": {},
   "outputs": [
    {
     "data": {
      "image/png": "[encoded data removed]",
      "text/plain": [
       "<Figure size 864x576 with 1 Axes>"
      ]
     },
     "metadata": {
      "needs_background": "light"
     },
     "output_type": "display_data"
    }
   ],
   "source": [
    "gender_category_df.plot(kind = 'bar', figsize=(12, 8))\n",
    "plt.title('Relation betwwen gender and product categories')\n",
    "plt.show()"
   ]
  },
  {
   "attachments": {},
   "cell_type": "markdown",
   "metadata": {},
   "source": [
    "From the table, we can see that for each product cetegory, the distribution was in a similar scale, with slightly more frequency for male's clothing transaction.\n",
    "\n",
    "Although the numbers are quite similar, we still need to convert the corresponding chi2 statistic to our p-value of chi2 distribution, in this case, the degree of freedom (DOF) used will be the parameters in variable's number of categories:\n",
    "\n",
    "$$\n",
    "\\begin{align}\n",
    "DOF & = (\\text{\\# of product categories - 1}) \\times (\\text{\\# of gender categories - 1})\n",
    "\\\\\n",
    "DOF & = 2\n",
    "\\end{align}\n",
    "$$"
   ]
  },
  {
   "attachments": {},
   "cell_type": "markdown",
   "metadata": {},
   "source": [
    "We will be using scipy's chi2 test of independence for contigency tables. \n",
    "\n",
    "The hypothesis are as follows:\n",
    "\n",
    "$$ H_0 = \\text{The relation between variables are independent}$$\n",
    "$$ H_1 = \\text{The relation between batiables are not independent}$$"
   ]
  },
  {
   "cell_type": "code",
   "execution_count": 14,
   "metadata": {},
   "outputs": [
    {
     "data": {
      "text/plain": [
       "(3.7174085431453174,\n",
       " 0.15587447055732034,\n",
       " 2,\n",
       " array([[11026.57528825, 11507.42471175],\n",
       "        [ 3470.82180348,  3622.17819652],\n",
       "        [ 2563.60290828,  2675.39709172]]))"
      ]
     },
     "execution_count": 14,
     "metadata": {},
     "output_type": "execute_result"
    }
   ],
   "source": [
    "scipy.stats.chi2_contingency(gender_category_df)"
   ]
  },
  {
   "attachments": {},
   "cell_type": "markdown",
   "metadata": {},
   "source": [
    "From the above result, we can see that the p-value is 0.1558, which we failed to reject the null hypothesis that gender is independent of product bought."
   ]
  },
  {
   "attachments": {},
   "cell_type": "markdown",
   "metadata": {},
   "source": [
    "## Conclusion\n",
    "\n",
    ">> There is no statistical significant proof that gender is related to product bought."
   ]
  },
  {
   "cell_type": "code",
   "execution_count": 15,
   "metadata": {},
   "outputs": [],
   "source": [
    "def chi2_test(df, col1, col2, show_table = True):\n",
    "    assert col1 in df.columns and col2 in df.columns, 'Column names provide can not be found in dataframe!'\n",
    "    _cont = df.groupby([col1, col2])[col2].count().unstack()\n",
    "    _result = scipy.stats.chi2_contingency(_cont)\n",
    "    if show_table:\n",
    "        print('------------------------------')\n",
    "        print('Observed contigency table')\n",
    "        display(_cont)\n",
    "        print('------------------------------')\n",
    "        print('Expected frequency table')\n",
    "        display(pd.DataFrame(_result[-1], index = _cont.index, \n",
    "                    columns = _cont.columns))\n",
    "    print(f'The p-value of chi2 independence test is {_result[1]:.4f}')"
   ]
  },
  {
   "cell_type": "code",
   "execution_count": 16,
   "metadata": {},
   "outputs": [
    {
     "name": "stdout",
     "output_type": "stream",
     "text": [
      "------------------------------\n",
      "Observed contigency table\n"
     ]
    },
    {
     "data": {
      "text/html": [
       "<div>\n",
       "<style scoped>\n",
       "    .dataframe tbody tr th:only-of-type {\n",
       "        vertical-align: middle;\n",
       "    }\n",
       "\n",
       "    .dataframe tbody tr th {\n",
       "        vertical-align: top;\n",
       "    }\n",
       "\n",
       "    .dataframe thead th {\n",
       "        text-align: right;\n",
       "    }\n",
       "</style>\n",
       "<table border=\"1\" class=\"dataframe\">\n",
       "  <thead>\n",
       "    <tr style=\"text-align: right;\">\n",
       "      <th>Product Category</th>\n",
       "      <th>Accessories</th>\n",
       "      <th>Bikes</th>\n",
       "      <th>Clothing</th>\n",
       "    </tr>\n",
       "    <tr>\n",
       "      <th>Country</th>\n",
       "      <th></th>\n",
       "      <th></th>\n",
       "      <th></th>\n",
       "    </tr>\n",
       "  </thead>\n",
       "  <tbody>\n",
       "    <tr>\n",
       "      <th>France</th>\n",
       "      <td>3293</td>\n",
       "      <td>1152</td>\n",
       "      <td>723</td>\n",
       "    </tr>\n",
       "    <tr>\n",
       "      <th>Germany</th>\n",
       "      <td>3200</td>\n",
       "      <td>1291</td>\n",
       "      <td>710</td>\n",
       "    </tr>\n",
       "    <tr>\n",
       "      <th>United Kingdom</th>\n",
       "      <td>3986</td>\n",
       "      <td>1497</td>\n",
       "      <td>938</td>\n",
       "    </tr>\n",
       "    <tr>\n",
       "      <th>United States</th>\n",
       "      <td>12055</td>\n",
       "      <td>3153</td>\n",
       "      <td>2868</td>\n",
       "    </tr>\n",
       "  </tbody>\n",
       "</table>\n",
       "</div>"
      ],
      "text/plain": [
       "Product Category  Accessories  Bikes  Clothing\n",
       "Country                                       \n",
       "France                   3293   1152       723\n",
       "Germany                  3200   1291       710\n",
       "United Kingdom           3986   1497       938\n",
       "United States           12055   3153      2868"
      ]
     },
     "metadata": {},
     "output_type": "display_data"
    },
    {
     "name": "stdout",
     "output_type": "stream",
     "text": [
      "------------------------------\n",
      "Expected frequency table\n"
     ]
    },
    {
     "data": {
      "text/html": [
       "<div>\n",
       "<style scoped>\n",
       "    .dataframe tbody tr th:only-of-type {\n",
       "        vertical-align: middle;\n",
       "    }\n",
       "\n",
       "    .dataframe tbody tr th {\n",
       "        vertical-align: top;\n",
       "    }\n",
       "\n",
       "    .dataframe thead th {\n",
       "        text-align: right;\n",
       "    }\n",
       "</style>\n",
       "<table border=\"1\" class=\"dataframe\">\n",
       "  <thead>\n",
       "    <tr style=\"text-align: right;\">\n",
       "      <th>Product Category</th>\n",
       "      <th>Accessories</th>\n",
       "      <th>Bikes</th>\n",
       "      <th>Clothing</th>\n",
       "    </tr>\n",
       "    <tr>\n",
       "      <th>Country</th>\n",
       "      <th></th>\n",
       "      <th></th>\n",
       "      <th></th>\n",
       "    </tr>\n",
       "  </thead>\n",
       "  <tbody>\n",
       "    <tr>\n",
       "      <th>France</th>\n",
       "      <td>3340.093845</td>\n",
       "      <td>1051.357311</td>\n",
       "      <td>776.548844</td>\n",
       "    </tr>\n",
       "    <tr>\n",
       "      <th>Germany</th>\n",
       "      <td>3361.421844</td>\n",
       "      <td>1058.070699</td>\n",
       "      <td>781.507457</td>\n",
       "    </tr>\n",
       "    <tr>\n",
       "      <th>United Kingdom</th>\n",
       "      <td>4149.911490</td>\n",
       "      <td>1306.262634</td>\n",
       "      <td>964.825876</td>\n",
       "    </tr>\n",
       "    <tr>\n",
       "      <th>United States</th>\n",
       "      <td>11682.572822</td>\n",
       "      <td>3677.309356</td>\n",
       "      <td>2716.117823</td>\n",
       "    </tr>\n",
       "  </tbody>\n",
       "</table>\n",
       "</div>"
      ],
      "text/plain": [
       "Product Category   Accessories        Bikes     Clothing\n",
       "Country                                                 \n",
       "France             3340.093845  1051.357311   776.548844\n",
       "Germany            3361.421844  1058.070699   781.507457\n",
       "United Kingdom     4149.911490  1306.262634   964.825876\n",
       "United States     11682.572822  3677.309356  2716.117823"
      ]
     },
     "metadata": {},
     "output_type": "display_data"
    },
    {
     "name": "stdout",
     "output_type": "stream",
     "text": [
      "The p-value of chi2 independence test is 0.0000\n"
     ]
    }
   ],
   "source": [
    "chi2_test(sales_df, 'Country', 'Product Category')"
   ]
  },
  {
   "attachments": {},
   "cell_type": "markdown",
   "metadata": {},
   "source": [
    ">> From the above result, we can see that there was deviation in sales, especially between United States with other countries. Infact, the corresponding p-value is 0, indicating there is a relation between the distribution of product sold and countries."
   ]
  },
  {
   "attachments": {},
   "cell_type": "markdown",
   "metadata": {},
   "source": [
    "# Clustering analysis"
   ]
  },
  {
   "attachments": {},
   "cell_type": "markdown",
   "metadata": {},
   "source": [
    "After we have established that there are no interesting relation between the variables, let's dive deep into clustering analysis.\n",
    "\n",
    "The aim of this section is to analyize customers behaviours, and determine if there are any groups with different spending habits, corresponding to different demographics."
   ]
  },
  {
   "cell_type": "code",
   "execution_count": 17,
   "metadata": {},
   "outputs": [
    {
     "data": {
      "text/html": [
       "<div>\n",
       "<style scoped>\n",
       "    .dataframe tbody tr th:only-of-type {\n",
       "        vertical-align: middle;\n",
       "    }\n",
       "\n",
       "    .dataframe tbody tr th {\n",
       "        vertical-align: top;\n",
       "    }\n",
       "\n",
       "    .dataframe thead th {\n",
       "        text-align: right;\n",
       "    }\n",
       "</style>\n",
       "<table border=\"1\" class=\"dataframe\">\n",
       "  <thead>\n",
       "    <tr style=\"text-align: right;\">\n",
       "      <th></th>\n",
       "      <th>Date</th>\n",
       "      <th>Year</th>\n",
       "      <th>Month</th>\n",
       "      <th>Customer Age</th>\n",
       "      <th>Customer Gender</th>\n",
       "      <th>Country</th>\n",
       "      <th>State</th>\n",
       "      <th>Product Category</th>\n",
       "      <th>Sub Category</th>\n",
       "      <th>Quantity</th>\n",
       "      <th>Unit Cost</th>\n",
       "      <th>Unit Price</th>\n",
       "      <th>Cost</th>\n",
       "      <th>Revenue</th>\n",
       "      <th>net_profit</th>\n",
       "      <th>Day</th>\n",
       "      <th>Month_numeric</th>\n",
       "    </tr>\n",
       "    <tr>\n",
       "      <th>index</th>\n",
       "      <th></th>\n",
       "      <th></th>\n",
       "      <th></th>\n",
       "      <th></th>\n",
       "      <th></th>\n",
       "      <th></th>\n",
       "      <th></th>\n",
       "      <th></th>\n",
       "      <th></th>\n",
       "      <th></th>\n",
       "      <th></th>\n",
       "      <th></th>\n",
       "      <th></th>\n",
       "      <th></th>\n",
       "      <th></th>\n",
       "      <th></th>\n",
       "      <th></th>\n",
       "    </tr>\n",
       "  </thead>\n",
       "  <tbody>\n",
       "    <tr>\n",
       "      <th>0</th>\n",
       "      <td>02/19/16</td>\n",
       "      <td>2016</td>\n",
       "      <td>February</td>\n",
       "      <td>29</td>\n",
       "      <td>F</td>\n",
       "      <td>United States</td>\n",
       "      <td>Washington</td>\n",
       "      <td>Accessories</td>\n",
       "      <td>Tires and Tubes</td>\n",
       "      <td>1.0</td>\n",
       "      <td>80.00</td>\n",
       "      <td>109.000000</td>\n",
       "      <td>80.0</td>\n",
       "      <td>109.0</td>\n",
       "      <td>29</td>\n",
       "      <td>19</td>\n",
       "      <td>2</td>\n",
       "    </tr>\n",
       "    <tr>\n",
       "      <th>1</th>\n",
       "      <td>02/20/16</td>\n",
       "      <td>2016</td>\n",
       "      <td>February</td>\n",
       "      <td>29</td>\n",
       "      <td>F</td>\n",
       "      <td>United States</td>\n",
       "      <td>Washington</td>\n",
       "      <td>Clothing</td>\n",
       "      <td>Gloves</td>\n",
       "      <td>2.0</td>\n",
       "      <td>24.50</td>\n",
       "      <td>28.500000</td>\n",
       "      <td>49.0</td>\n",
       "      <td>57.0</td>\n",
       "      <td>8</td>\n",
       "      <td>20</td>\n",
       "      <td>2</td>\n",
       "    </tr>\n",
       "    <tr>\n",
       "      <th>2</th>\n",
       "      <td>02/27/16</td>\n",
       "      <td>2016</td>\n",
       "      <td>February</td>\n",
       "      <td>29</td>\n",
       "      <td>F</td>\n",
       "      <td>United States</td>\n",
       "      <td>Washington</td>\n",
       "      <td>Accessories</td>\n",
       "      <td>Tires and Tubes</td>\n",
       "      <td>3.0</td>\n",
       "      <td>3.67</td>\n",
       "      <td>5.000000</td>\n",
       "      <td>11.0</td>\n",
       "      <td>15.0</td>\n",
       "      <td>4</td>\n",
       "      <td>27</td>\n",
       "      <td>2</td>\n",
       "    </tr>\n",
       "    <tr>\n",
       "      <th>3</th>\n",
       "      <td>03/12/16</td>\n",
       "      <td>2016</td>\n",
       "      <td>March</td>\n",
       "      <td>29</td>\n",
       "      <td>F</td>\n",
       "      <td>United States</td>\n",
       "      <td>Washington</td>\n",
       "      <td>Accessories</td>\n",
       "      <td>Tires and Tubes</td>\n",
       "      <td>2.0</td>\n",
       "      <td>87.50</td>\n",
       "      <td>116.500000</td>\n",
       "      <td>175.0</td>\n",
       "      <td>233.0</td>\n",
       "      <td>58</td>\n",
       "      <td>12</td>\n",
       "      <td>3</td>\n",
       "    </tr>\n",
       "    <tr>\n",
       "      <th>4</th>\n",
       "      <td>03/12/16</td>\n",
       "      <td>2016</td>\n",
       "      <td>March</td>\n",
       "      <td>29</td>\n",
       "      <td>F</td>\n",
       "      <td>United States</td>\n",
       "      <td>Washington</td>\n",
       "      <td>Accessories</td>\n",
       "      <td>Tires and Tubes</td>\n",
       "      <td>3.0</td>\n",
       "      <td>35.00</td>\n",
       "      <td>41.666667</td>\n",
       "      <td>105.0</td>\n",
       "      <td>125.0</td>\n",
       "      <td>20</td>\n",
       "      <td>12</td>\n",
       "      <td>3</td>\n",
       "    </tr>\n",
       "  </tbody>\n",
       "</table>\n",
       "</div>"
      ],
      "text/plain": [
       "           Date  Year     Month  Customer Age Customer Gender        Country  \\\n",
       "index                                                                          \n",
       "0      02/19/16  2016  February            29               F  United States   \n",
       "1      02/20/16  2016  February            29               F  United States   \n",
       "2      02/27/16  2016  February            29               F  United States   \n",
       "3      03/12/16  2016     March            29               F  United States   \n",
       "4      03/12/16  2016     March            29               F  United States   \n",
       "\n",
       "            State Product Category     Sub Category  Quantity  Unit Cost  \\\n",
       "index                                                                      \n",
       "0      Washington      Accessories  Tires and Tubes       1.0      80.00   \n",
       "1      Washington         Clothing           Gloves       2.0      24.50   \n",
       "2      Washington      Accessories  Tires and Tubes       3.0       3.67   \n",
       "3      Washington      Accessories  Tires and Tubes       2.0      87.50   \n",
       "4      Washington      Accessories  Tires and Tubes       3.0      35.00   \n",
       "\n",
       "       Unit Price   Cost  Revenue  net_profit  Day  Month_numeric  \n",
       "index                                                              \n",
       "0      109.000000   80.0    109.0          29   19              2  \n",
       "1       28.500000   49.0     57.0           8   20              2  \n",
       "2        5.000000   11.0     15.0           4   27              2  \n",
       "3      116.500000  175.0    233.0          58   12              3  \n",
       "4       41.666667  105.0    125.0          20   12              3  "
      ]
     },
     "execution_count": 17,
     "metadata": {},
     "output_type": "execute_result"
    }
   ],
   "source": [
    "sales_df.head()"
   ]
  },
  {
   "attachments": {},
   "cell_type": "markdown",
   "metadata": {},
   "source": [
    "Before we can continue to our analysis, we have to preprocess several things, notice that we have several categorical categories:"
   ]
  },
  {
   "cell_type": "code",
   "execution_count": 18,
   "metadata": {},
   "outputs": [
    {
     "data": {
      "text/plain": [
       "Index(['Date', 'Month', 'Customer Gender', 'Country', 'State',\n",
       "       'Product Category', 'Sub Category'],\n",
       "      dtype='object')"
      ]
     },
     "execution_count": 18,
     "metadata": {},
     "output_type": "execute_result"
    }
   ],
   "source": [
    "sales_df.select_dtypes('object').columns"
   ]
  },
  {
   "attachments": {},
   "cell_type": "markdown",
   "metadata": {},
   "source": [
    "We will be excluding the Date and Month columns, as the purpose is not a time series analysis, and the categorical columns will be one-hot encoded, in order to be feed in to a clustering algorithm."
   ]
  },
  {
   "cell_type": "code",
   "execution_count": 19,
   "metadata": {},
   "outputs": [],
   "source": [
    "from sklearn.compose import ColumnTransformer, make_column_selector\n",
    "from sklearn.preprocessing import OneHotEncoder, StandardScaler, MinMaxScaler, MaxAbsScaler\n",
    "from sklearn.pipeline import Pipeline\n",
    "from sklearn.cluster import DBSCAN\n",
    "from sklearn.metrics import silhouette_score"
   ]
  },
  {
   "cell_type": "code",
   "execution_count": 20,
   "metadata": {},
   "outputs": [
    {
     "data": {
      "text/plain": [
       "['Customer Age',\n",
       " 'Customer Gender',\n",
       " 'State',\n",
       " 'Sub Category',\n",
       " 'Cost',\n",
       " 'Revenue',\n",
       " 'net_profit']"
      ]
     },
     "execution_count": 20,
     "metadata": {},
     "output_type": "execute_result"
    }
   ],
   "source": [
    "unwanted_col = ['Date', 'Year', 'Month', 'Quantity', 'Unit Cost', 'Unit Price', 'Day', 'Month_numeric', \n",
    "                    'Country', 'Product Category']\n",
    "remaining_col = [x for x in list(sales_df.columns) if x not in unwanted_col]\n",
    "remaining_col"
   ]
  },
  {
   "cell_type": "code",
   "execution_count": 21,
   "metadata": {},
   "outputs": [],
   "source": [
    "clustering_df = sales_df[remaining_col]"
   ]
  },
  {
   "cell_type": "code",
   "execution_count": 22,
   "metadata": {},
   "outputs": [
    {
     "data": {
      "text/html": [
       "<div>\n",
       "<style scoped>\n",
       "    .dataframe tbody tr th:only-of-type {\n",
       "        vertical-align: middle;\n",
       "    }\n",
       "\n",
       "    .dataframe tbody tr th {\n",
       "        vertical-align: top;\n",
       "    }\n",
       "\n",
       "    .dataframe thead th {\n",
       "        text-align: right;\n",
       "    }\n",
       "</style>\n",
       "<table border=\"1\" class=\"dataframe\">\n",
       "  <thead>\n",
       "    <tr style=\"text-align: right;\">\n",
       "      <th></th>\n",
       "      <th>Customer Age</th>\n",
       "      <th>Customer Gender</th>\n",
       "      <th>State</th>\n",
       "      <th>Sub Category</th>\n",
       "      <th>Cost</th>\n",
       "      <th>Revenue</th>\n",
       "      <th>net_profit</th>\n",
       "    </tr>\n",
       "    <tr>\n",
       "      <th>index</th>\n",
       "      <th></th>\n",
       "      <th></th>\n",
       "      <th></th>\n",
       "      <th></th>\n",
       "      <th></th>\n",
       "      <th></th>\n",
       "      <th></th>\n",
       "    </tr>\n",
       "  </thead>\n",
       "  <tbody>\n",
       "    <tr>\n",
       "      <th>0</th>\n",
       "      <td>29</td>\n",
       "      <td>F</td>\n",
       "      <td>Washington</td>\n",
       "      <td>Tires and Tubes</td>\n",
       "      <td>80.0</td>\n",
       "      <td>109.0</td>\n",
       "      <td>29</td>\n",
       "    </tr>\n",
       "    <tr>\n",
       "      <th>1</th>\n",
       "      <td>29</td>\n",
       "      <td>F</td>\n",
       "      <td>Washington</td>\n",
       "      <td>Gloves</td>\n",
       "      <td>49.0</td>\n",
       "      <td>57.0</td>\n",
       "      <td>8</td>\n",
       "    </tr>\n",
       "    <tr>\n",
       "      <th>2</th>\n",
       "      <td>29</td>\n",
       "      <td>F</td>\n",
       "      <td>Washington</td>\n",
       "      <td>Tires and Tubes</td>\n",
       "      <td>11.0</td>\n",
       "      <td>15.0</td>\n",
       "      <td>4</td>\n",
       "    </tr>\n",
       "    <tr>\n",
       "      <th>3</th>\n",
       "      <td>29</td>\n",
       "      <td>F</td>\n",
       "      <td>Washington</td>\n",
       "      <td>Tires and Tubes</td>\n",
       "      <td>175.0</td>\n",
       "      <td>233.0</td>\n",
       "      <td>58</td>\n",
       "    </tr>\n",
       "    <tr>\n",
       "      <th>4</th>\n",
       "      <td>29</td>\n",
       "      <td>F</td>\n",
       "      <td>Washington</td>\n",
       "      <td>Tires and Tubes</td>\n",
       "      <td>105.0</td>\n",
       "      <td>125.0</td>\n",
       "      <td>20</td>\n",
       "    </tr>\n",
       "  </tbody>\n",
       "</table>\n",
       "</div>"
      ],
      "text/plain": [
       "       Customer Age Customer Gender       State     Sub Category   Cost  \\\n",
       "index                                                                     \n",
       "0                29               F  Washington  Tires and Tubes   80.0   \n",
       "1                29               F  Washington           Gloves   49.0   \n",
       "2                29               F  Washington  Tires and Tubes   11.0   \n",
       "3                29               F  Washington  Tires and Tubes  175.0   \n",
       "4                29               F  Washington  Tires and Tubes  105.0   \n",
       "\n",
       "       Revenue  net_profit  \n",
       "index                       \n",
       "0        109.0          29  \n",
       "1         57.0           8  \n",
       "2         15.0           4  \n",
       "3        233.0          58  \n",
       "4        125.0          20  "
      ]
     },
     "execution_count": 22,
     "metadata": {},
     "output_type": "execute_result"
    }
   ],
   "source": [
    "clustering_df.head()"
   ]
  },
  {
   "cell_type": "code",
   "execution_count": 23,
   "metadata": {},
   "outputs": [],
   "source": [
    "ct = ColumnTransformer([('ohe', OneHotEncoder(), ['Customer Gender', 'State', 'Sub Category'])], \n",
    "                        # ('mmscaler', MinMaxScaler(), make_column_selector(dtype_include=['number', 'object']))],\n",
    "                       remainder='passthrough', \n",
    "                       verbose_feature_names_out=False) "
   ]
  },
  {
   "cell_type": "code",
   "execution_count": 24,
   "metadata": {},
   "outputs": [],
   "source": [
    "pipe = Pipeline([('ohe', ct), \n",
    "                ('mascaler', MaxAbsScaler())])\n",
    "                # ('clustering', DBSCAN())])"
   ]
  },
  {
   "cell_type": "code",
   "execution_count": 25,
   "metadata": {},
   "outputs": [],
   "source": [
    "clustering_transformed = pipe.fit_transform(clustering_df)"
   ]
  },
  {
   "cell_type": "code",
   "execution_count": 26,
   "metadata": {},
   "outputs": [
    {
     "data": {
      "text/html": [
       "<div>\n",
       "<style scoped>\n",
       "    .dataframe tbody tr th:only-of-type {\n",
       "        vertical-align: middle;\n",
       "    }\n",
       "\n",
       "    .dataframe tbody tr th {\n",
       "        vertical-align: top;\n",
       "    }\n",
       "\n",
       "    .dataframe thead th {\n",
       "        text-align: right;\n",
       "    }\n",
       "</style>\n",
       "<table border=\"1\" class=\"dataframe\">\n",
       "  <thead>\n",
       "    <tr style=\"text-align: right;\">\n",
       "      <th></th>\n",
       "      <th>Customer Gender_F</th>\n",
       "      <th>Customer Gender_M</th>\n",
       "      <th>State_Alabama</th>\n",
       "      <th>State_Arizona</th>\n",
       "      <th>State_Bayern</th>\n",
       "      <th>State_Brandenburg</th>\n",
       "      <th>State_California</th>\n",
       "      <th>State_Charente-Maritime</th>\n",
       "      <th>State_England</th>\n",
       "      <th>State_Essonne</th>\n",
       "      <th>...</th>\n",
       "      <th>Sub Category_Road Bikes</th>\n",
       "      <th>Sub Category_Shorts</th>\n",
       "      <th>Sub Category_Socks</th>\n",
       "      <th>Sub Category_Tires and Tubes</th>\n",
       "      <th>Sub Category_Touring Bikes</th>\n",
       "      <th>Sub Category_Vests</th>\n",
       "      <th>Customer Age</th>\n",
       "      <th>Cost</th>\n",
       "      <th>Revenue</th>\n",
       "      <th>net_profit</th>\n",
       "    </tr>\n",
       "  </thead>\n",
       "  <tbody>\n",
       "    <tr>\n",
       "      <th>0</th>\n",
       "      <td>1.0</td>\n",
       "      <td>0.0</td>\n",
       "      <td>0.0</td>\n",
       "      <td>0.0</td>\n",
       "      <td>0.0</td>\n",
       "      <td>0.0</td>\n",
       "      <td>0.0</td>\n",
       "      <td>0.0</td>\n",
       "      <td>0.0</td>\n",
       "      <td>0.0</td>\n",
       "      <td>...</td>\n",
       "      <td>0.0</td>\n",
       "      <td>0.0</td>\n",
       "      <td>0.0</td>\n",
       "      <td>1.0</td>\n",
       "      <td>0.0</td>\n",
       "      <td>0.0</td>\n",
       "      <td>0.333333</td>\n",
       "      <td>0.022222</td>\n",
       "      <td>0.021448</td>\n",
       "      <td>0.015744</td>\n",
       "    </tr>\n",
       "    <tr>\n",
       "      <th>1</th>\n",
       "      <td>1.0</td>\n",
       "      <td>0.0</td>\n",
       "      <td>0.0</td>\n",
       "      <td>0.0</td>\n",
       "      <td>0.0</td>\n",
       "      <td>0.0</td>\n",
       "      <td>0.0</td>\n",
       "      <td>0.0</td>\n",
       "      <td>0.0</td>\n",
       "      <td>0.0</td>\n",
       "      <td>...</td>\n",
       "      <td>0.0</td>\n",
       "      <td>0.0</td>\n",
       "      <td>0.0</td>\n",
       "      <td>0.0</td>\n",
       "      <td>0.0</td>\n",
       "      <td>0.0</td>\n",
       "      <td>0.333333</td>\n",
       "      <td>0.013611</td>\n",
       "      <td>0.011216</td>\n",
       "      <td>0.004343</td>\n",
       "    </tr>\n",
       "    <tr>\n",
       "      <th>2</th>\n",
       "      <td>1.0</td>\n",
       "      <td>0.0</td>\n",
       "      <td>0.0</td>\n",
       "      <td>0.0</td>\n",
       "      <td>0.0</td>\n",
       "      <td>0.0</td>\n",
       "      <td>0.0</td>\n",
       "      <td>0.0</td>\n",
       "      <td>0.0</td>\n",
       "      <td>0.0</td>\n",
       "      <td>...</td>\n",
       "      <td>0.0</td>\n",
       "      <td>0.0</td>\n",
       "      <td>0.0</td>\n",
       "      <td>1.0</td>\n",
       "      <td>0.0</td>\n",
       "      <td>0.0</td>\n",
       "      <td>0.333333</td>\n",
       "      <td>0.003056</td>\n",
       "      <td>0.002952</td>\n",
       "      <td>0.002172</td>\n",
       "    </tr>\n",
       "    <tr>\n",
       "      <th>3</th>\n",
       "      <td>1.0</td>\n",
       "      <td>0.0</td>\n",
       "      <td>0.0</td>\n",
       "      <td>0.0</td>\n",
       "      <td>0.0</td>\n",
       "      <td>0.0</td>\n",
       "      <td>0.0</td>\n",
       "      <td>0.0</td>\n",
       "      <td>0.0</td>\n",
       "      <td>0.0</td>\n",
       "      <td>...</td>\n",
       "      <td>0.0</td>\n",
       "      <td>0.0</td>\n",
       "      <td>0.0</td>\n",
       "      <td>1.0</td>\n",
       "      <td>0.0</td>\n",
       "      <td>0.0</td>\n",
       "      <td>0.333333</td>\n",
       "      <td>0.048611</td>\n",
       "      <td>0.045848</td>\n",
       "      <td>0.031488</td>\n",
       "    </tr>\n",
       "    <tr>\n",
       "      <th>4</th>\n",
       "      <td>1.0</td>\n",
       "      <td>0.0</td>\n",
       "      <td>0.0</td>\n",
       "      <td>0.0</td>\n",
       "      <td>0.0</td>\n",
       "      <td>0.0</td>\n",
       "      <td>0.0</td>\n",
       "      <td>0.0</td>\n",
       "      <td>0.0</td>\n",
       "      <td>0.0</td>\n",
       "      <td>...</td>\n",
       "      <td>0.0</td>\n",
       "      <td>0.0</td>\n",
       "      <td>0.0</td>\n",
       "      <td>1.0</td>\n",
       "      <td>0.0</td>\n",
       "      <td>0.0</td>\n",
       "      <td>0.333333</td>\n",
       "      <td>0.029167</td>\n",
       "      <td>0.024597</td>\n",
       "      <td>0.010858</td>\n",
       "    </tr>\n",
       "    <tr>\n",
       "      <th>...</th>\n",
       "      <td>...</td>\n",
       "      <td>...</td>\n",
       "      <td>...</td>\n",
       "      <td>...</td>\n",
       "      <td>...</td>\n",
       "      <td>...</td>\n",
       "      <td>...</td>\n",
       "      <td>...</td>\n",
       "      <td>...</td>\n",
       "      <td>...</td>\n",
       "      <td>...</td>\n",
       "      <td>...</td>\n",
       "      <td>...</td>\n",
       "      <td>...</td>\n",
       "      <td>...</td>\n",
       "      <td>...</td>\n",
       "      <td>...</td>\n",
       "      <td>...</td>\n",
       "      <td>...</td>\n",
       "      <td>...</td>\n",
       "      <td>...</td>\n",
       "    </tr>\n",
       "    <tr>\n",
       "      <th>34861</th>\n",
       "      <td>0.0</td>\n",
       "      <td>1.0</td>\n",
       "      <td>0.0</td>\n",
       "      <td>0.0</td>\n",
       "      <td>0.0</td>\n",
       "      <td>0.0</td>\n",
       "      <td>0.0</td>\n",
       "      <td>1.0</td>\n",
       "      <td>0.0</td>\n",
       "      <td>0.0</td>\n",
       "      <td>...</td>\n",
       "      <td>0.0</td>\n",
       "      <td>0.0</td>\n",
       "      <td>0.0</td>\n",
       "      <td>0.0</td>\n",
       "      <td>0.0</td>\n",
       "      <td>0.0</td>\n",
       "      <td>0.436782</td>\n",
       "      <td>0.569167</td>\n",
       "      <td>0.292601</td>\n",
       "      <td>-0.305103</td>\n",
       "    </tr>\n",
       "    <tr>\n",
       "      <th>34862</th>\n",
       "      <td>0.0</td>\n",
       "      <td>1.0</td>\n",
       "      <td>0.0</td>\n",
       "      <td>0.0</td>\n",
       "      <td>0.0</td>\n",
       "      <td>0.0</td>\n",
       "      <td>0.0</td>\n",
       "      <td>0.0</td>\n",
       "      <td>0.0</td>\n",
       "      <td>0.0</td>\n",
       "      <td>...</td>\n",
       "      <td>0.0</td>\n",
       "      <td>0.0</td>\n",
       "      <td>0.0</td>\n",
       "      <td>0.0</td>\n",
       "      <td>0.0</td>\n",
       "      <td>0.0</td>\n",
       "      <td>0.436782</td>\n",
       "      <td>0.644444</td>\n",
       "      <td>0.387839</td>\n",
       "      <td>-0.189468</td>\n",
       "    </tr>\n",
       "    <tr>\n",
       "      <th>34863</th>\n",
       "      <td>0.0</td>\n",
       "      <td>1.0</td>\n",
       "      <td>0.0</td>\n",
       "      <td>0.0</td>\n",
       "      <td>0.0</td>\n",
       "      <td>0.0</td>\n",
       "      <td>0.0</td>\n",
       "      <td>0.0</td>\n",
       "      <td>0.0</td>\n",
       "      <td>0.0</td>\n",
       "      <td>...</td>\n",
       "      <td>0.0</td>\n",
       "      <td>0.0</td>\n",
       "      <td>0.0</td>\n",
       "      <td>0.0</td>\n",
       "      <td>0.0</td>\n",
       "      <td>0.0</td>\n",
       "      <td>0.436782</td>\n",
       "      <td>0.569167</td>\n",
       "      <td>0.311492</td>\n",
       "      <td>-0.252986</td>\n",
       "    </tr>\n",
       "    <tr>\n",
       "      <th>34864</th>\n",
       "      <td>0.0</td>\n",
       "      <td>1.0</td>\n",
       "      <td>0.0</td>\n",
       "      <td>0.0</td>\n",
       "      <td>0.0</td>\n",
       "      <td>0.0</td>\n",
       "      <td>0.0</td>\n",
       "      <td>0.0</td>\n",
       "      <td>0.0</td>\n",
       "      <td>0.0</td>\n",
       "      <td>...</td>\n",
       "      <td>0.0</td>\n",
       "      <td>0.0</td>\n",
       "      <td>0.0</td>\n",
       "      <td>0.0</td>\n",
       "      <td>0.0</td>\n",
       "      <td>0.0</td>\n",
       "      <td>0.436782</td>\n",
       "      <td>0.569167</td>\n",
       "      <td>0.330972</td>\n",
       "      <td>-0.199240</td>\n",
       "    </tr>\n",
       "    <tr>\n",
       "      <th>34865</th>\n",
       "      <td>0.0</td>\n",
       "      <td>1.0</td>\n",
       "      <td>0.0</td>\n",
       "      <td>0.0</td>\n",
       "      <td>0.0</td>\n",
       "      <td>0.0</td>\n",
       "      <td>0.0</td>\n",
       "      <td>0.0</td>\n",
       "      <td>0.0</td>\n",
       "      <td>0.0</td>\n",
       "      <td>...</td>\n",
       "      <td>0.0</td>\n",
       "      <td>0.0</td>\n",
       "      <td>0.0</td>\n",
       "      <td>0.0</td>\n",
       "      <td>0.0</td>\n",
       "      <td>0.0</td>\n",
       "      <td>0.436782</td>\n",
       "      <td>0.644444</td>\n",
       "      <td>0.308540</td>\n",
       "      <td>-0.408252</td>\n",
       "    </tr>\n",
       "  </tbody>\n",
       "</table>\n",
       "<p>34866 rows × 68 columns</p>\n",
       "</div>"
      ],
      "text/plain": [
       "       Customer Gender_F  Customer Gender_M  State_Alabama  State_Arizona  \\\n",
       "0                    1.0                0.0            0.0            0.0   \n",
       "1                    1.0                0.0            0.0            0.0   \n",
       "2                    1.0                0.0            0.0            0.0   \n",
       "3                    1.0                0.0            0.0            0.0   \n",
       "4                    1.0                0.0            0.0            0.0   \n",
       "...                  ...                ...            ...            ...   \n",
       "34861                0.0                1.0            0.0            0.0   \n",
       "34862                0.0                1.0            0.0            0.0   \n",
       "34863                0.0                1.0            0.0            0.0   \n",
       "34864                0.0                1.0            0.0            0.0   \n",
       "34865                0.0                1.0            0.0            0.0   \n",
       "\n",
       "       State_Bayern  State_Brandenburg  State_California  \\\n",
       "0               0.0                0.0               0.0   \n",
       "1               0.0                0.0               0.0   \n",
       "2               0.0                0.0               0.0   \n",
       "3               0.0                0.0               0.0   \n",
       "4               0.0                0.0               0.0   \n",
       "...             ...                ...               ...   \n",
       "34861           0.0                0.0               0.0   \n",
       "34862           0.0                0.0               0.0   \n",
       "34863           0.0                0.0               0.0   \n",
       "34864           0.0                0.0               0.0   \n",
       "34865           0.0                0.0               0.0   \n",
       "\n",
       "       State_Charente-Maritime  State_England  State_Essonne  ...  \\\n",
       "0                          0.0            0.0            0.0  ...   \n",
       "1                          0.0            0.0            0.0  ...   \n",
       "2                          0.0            0.0            0.0  ...   \n",
       "3                          0.0            0.0            0.0  ...   \n",
       "4                          0.0            0.0            0.0  ...   \n",
       "...                        ...            ...            ...  ...   \n",
       "34861                      1.0            0.0            0.0  ...   \n",
       "34862                      0.0            0.0            0.0  ...   \n",
       "34863                      0.0            0.0            0.0  ...   \n",
       "34864                      0.0            0.0            0.0  ...   \n",
       "34865                      0.0            0.0            0.0  ...   \n",
       "\n",
       "       Sub Category_Road Bikes  Sub Category_Shorts  Sub Category_Socks  \\\n",
       "0                          0.0                  0.0                 0.0   \n",
       "1                          0.0                  0.0                 0.0   \n",
       "2                          0.0                  0.0                 0.0   \n",
       "3                          0.0                  0.0                 0.0   \n",
       "4                          0.0                  0.0                 0.0   \n",
       "...                        ...                  ...                 ...   \n",
       "34861                      0.0                  0.0                 0.0   \n",
       "34862                      0.0                  0.0                 0.0   \n",
       "34863                      0.0                  0.0                 0.0   \n",
       "34864                      0.0                  0.0                 0.0   \n",
       "34865                      0.0                  0.0                 0.0   \n",
       "\n",
       "       Sub Category_Tires and Tubes  Sub Category_Touring Bikes  \\\n",
       "0                               1.0                         0.0   \n",
       "1                               0.0                         0.0   \n",
       "2                               1.0                         0.0   \n",
       "3                               1.0                         0.0   \n",
       "4                               1.0                         0.0   \n",
       "...                             ...                         ...   \n",
       "34861                           0.0                         0.0   \n",
       "34862                           0.0                         0.0   \n",
       "34863                           0.0                         0.0   \n",
       "34864                           0.0                         0.0   \n",
       "34865                           0.0                         0.0   \n",
       "\n",
       "       Sub Category_Vests  Customer Age      Cost   Revenue  net_profit  \n",
       "0                     0.0      0.333333  0.022222  0.021448    0.015744  \n",
       "1                     0.0      0.333333  0.013611  0.011216    0.004343  \n",
       "2                     0.0      0.333333  0.003056  0.002952    0.002172  \n",
       "3                     0.0      0.333333  0.048611  0.045848    0.031488  \n",
       "4                     0.0      0.333333  0.029167  0.024597    0.010858  \n",
       "...                   ...           ...       ...       ...         ...  \n",
       "34861                 0.0      0.436782  0.569167  0.292601   -0.305103  \n",
       "34862                 0.0      0.436782  0.644444  0.387839   -0.189468  \n",
       "34863                 0.0      0.436782  0.569167  0.311492   -0.252986  \n",
       "34864                 0.0      0.436782  0.569167  0.330972   -0.199240  \n",
       "34865                 0.0      0.436782  0.644444  0.308540   -0.408252  \n",
       "\n",
       "[34866 rows x 68 columns]"
      ]
     },
     "execution_count": 26,
     "metadata": {},
     "output_type": "execute_result"
    }
   ],
   "source": [
    "clustering_tf_df = pd.DataFrame(clustering_transformed.toarray(), \n",
    "                                columns=pipe.get_feature_names_out())\n",
    "clustering_tf_df"
   ]
  },
  {
   "cell_type": "code",
   "execution_count": 27,
   "metadata": {},
   "outputs": [],
   "source": [
    "dbs = DBSCAN()\n",
    "\n",
    "dbs_result = dbs.fit(clustering_tf_df)\n"
   ]
  },
  {
   "attachments": {},
   "cell_type": "markdown",
   "metadata": {},
   "source": [
    "To determine if the clustering is a good representation, we will be using the silhouette_score from sklearn"
   ]
  },
  {
   "cell_type": "code",
   "execution_count": 28,
   "metadata": {},
   "outputs": [
    {
     "data": {
      "text/plain": [
       "0.8095016500613148"
      ]
     },
     "execution_count": 28,
     "metadata": {},
     "output_type": "execute_result"
    }
   ],
   "source": [
    "silhouette_score(clustering_tf_df, dbs_result.labels_)"
   ]
  },
  {
   "attachments": {},
   "cell_type": "markdown",
   "metadata": {},
   "source": [
    "# Hyperparameter tuning\n",
    "\n",
    "Now that we have demonstrated on how to perrrr"
   ]
  },
  {
   "cell_type": "code",
   "execution_count": 29,
   "metadata": {},
   "outputs": [],
   "source": [
    "import optuna"
   ]
  },
  {
   "cell_type": "code",
   "execution_count": 30,
   "metadata": {},
   "outputs": [],
   "source": [
    "def objective(trial):\n",
    "    _epsilon = trial.suggest_float('_epsilon', 0.1, 4)\n",
    "    _min_samples = trial.suggest_int('_min_samples', 5, 1000, log= True)\n",
    "    _distance = trial.suggest_categorical('_distance', ['euclidean', 'manhattan'])\n",
    "    _dbs = DBSCAN(eps=_epsilon, min_samples=_min_samples, metric=_distance)\n",
    "    _dbs.fit(clustering_tf_df)\n",
    "    try:\n",
    "        return silhouette_score(clustering_tf_df, _dbs.labels_, metric=_distance, \n",
    "                                sample_size = clustering_tf_df.shape[0]*0.6, random_state = 42)\n",
    "    except:\n",
    "        return 0"
   ]
  },
  {
   "cell_type": "code",
   "execution_count": 31,
   "metadata": {},
   "outputs": [
    {
     "data": {
      "text/plain": [
       "(34866, 68)"
      ]
     },
     "execution_count": 31,
     "metadata": {},
     "output_type": "execute_result"
    }
   ],
   "source": [
    "clustering_tf_df.shape"
   ]
  },
  {
   "cell_type": "code",
   "execution_count": 36,
   "metadata": {},
   "outputs": [
    {
     "name": "stderr",
     "output_type": "stream",
     "text": [
      "/home/shiya/anaconda3/lib/python3.9/site-packages/numpy/core/function_base.py:265: RuntimeWarning: overflow encountered in power\n",
      "  return _nx.power(base, y)\n",
      "/home/shiya/anaconda3/lib/python3.9/site-packages/numpy/core/function_base.py:265: RuntimeWarning: overflow encountered in power\n",
      "  return _nx.power(base, y)\n",
      "/home/shiya/anaconda3/lib/python3.9/site-packages/numpy/core/function_base.py:265: RuntimeWarning: overflow encountered in power\n",
      "  return _nx.power(base, y)\n",
      "/home/shiya/anaconda3/lib/python3.9/site-packages/numpy/core/function_base.py:265: RuntimeWarning: overflow encountered in power\n",
      "  return _nx.power(base, y)\n"
     ]
    }
   ],
   "source": [
    "dbs_dict = {'epsilon':[], 'min_sample':[], 'sil_score':[]}\n",
    "\n",
    "for ep in np.linspace(0.1, 4, 20):\n",
    "    for minsamp in np.logspace(5, 1000, 20):\n",
    "        for _distance in ['euclidean', 'manhattan']:\n",
    "            print(f'Fitting on epsion: {ep}, minimum_sample: {minsamp} with distance: {_distance}')\n",
    "            _dbs = DBSCAN(eps=ep, min_samples=minsamp, metric=_distance)\n",
    "            _dbs.fit(clustering_tf_df)\n",
    "            dbs_dict['epsilon'].append(ep)\n",
    "            dbs_dict['min_sample'].append(minsamp)\n",
    "            try:\n",
    "                sil_score = silhouette_score(clustering_tf_df, _dbs.labels_, metric=_distance, \n",
    "                                            sample_size = int(clustering_tf_df.shape[0]*0.6), random_state = 42)\n",
    "            except:\n",
    "                sil_score = 0\n",
    "            dbs_dict['sil_score'].append(sil_socre)\n",
    "            print(dbs_dict)\n"
   ]
  },
  {
   "cell_type": "code",
   "execution_count": null,
   "metadata": {},
   "outputs": [],
   "source": []
  }
 ],
 "metadata": {
  "kernelspec": {
   "display_name": "Python 3.9.7 ('base')",
   "language": "python",
   "name": "python3"
  },
  "language_info": {
   "codemirror_mode": {
    "name": "ipython",
    "version": 3
   },
   "file_extension": ".py",
   "mimetype": "text/x-python",
   "name": "python",
   "nbconvert_exporter": "python",
   "pygments_lexer": "ipython3",
   "version": "3.9.7"
  },
  "orig_nbformat": 4,
  "vscode": {
   "interpreter": {
    "hash": "d4b3ed6123b24d1be07dc984a4cd0668b04cf02ff0b0af3eabdd70774543141c"
   }
  }
 },
 "nbformat": 4,
 "nbformat_minor": 2
}
